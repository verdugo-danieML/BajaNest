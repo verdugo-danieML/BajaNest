{
 "cells": [
  {
   "cell_type": "markdown",
   "id": "a23ac3af-6d9e-47aa-a137-ae2f9fa5f684",
   "metadata": {
    "tags": []
   },
   "source": [
    "# Extract images from video\n",
    "\n",
    "The purpose of this notebook is to extract images from osprey videos using the FFmpeg command. The videos are located in the 'video_data' folder, and a new folder named 'image_data' is created by calling the 'extract_images' function, which is available in the Python script 'dataset_utils.py'."
   ]
  },
  {
   "cell_type": "code",
   "execution_count": 1,
   "id": "8f59ffdf-3ade-4401-96aa-967129b33a11",
   "metadata": {},
   "outputs": [],
   "source": [
    "from dataset_utils import extract_images\n",
    "import os"
   ]
  },
  {
   "cell_type": "code",
   "execution_count": 2,
   "id": "d5720495-28eb-4746-8c39-407c00e55e60",
   "metadata": {},
   "outputs": [],
   "source": [
    "video_files = [f for f in os.listdir('video_data/') if f.endswith(('.MP4'))]\n",
    "output_directory = 'image_data'"
   ]
  },
  {
   "cell_type": "code",
   "execution_count": 3,
   "id": "4505c789-2bb5-4ebc-a0a1-e17801e1a834",
   "metadata": {},
   "outputs": [
    {
     "name": "stderr",
     "output_type": "stream",
     "text": [
      "Input #0, mov,mp4,m4a,3gp,3g2,mj2, from 'video_data/DJI_0228.MP4':\n",
      "  Metadata:\n",
      "    major_brand     : isom\n",
      "    minor_version   : 512\n",
      "    compatible_brands: isomiso2avc1mp41\n",
      "    creation_time   : 2023-12-18T19:57:59.000000Z\n",
      "    encoder         : Lavf56.15.102\n",
      "  Duration: 00:00:59.53, start: 0.000000, bitrate: 103621 kb/s\n",
      "    Stream #0:0(und): Video: h264 (High) (avc1 / 0x31637661), yuv420p, 3840x2160, 103620 kb/s, 29.97 fps, 29.97 tbr, 30k tbn, 58 tbc (default)\n",
      "    Metadata:\n",
      "      creation_time   : 2023-12-18T19:57:59.000000Z\n",
      "      handler_name    : VideoHandler\n",
      "Stream mapping:\n",
      "  Stream #0:0 -> #0:0 (h264 (native) -> mjpeg (native))\n",
      "Press [q] to stop, [?] for help\n",
      "[swscaler @ 0x55d3daf84480] deprecated pixel format used, make sure you did set range correctly\n",
      "Output #0, image2, to 'image_data/DJI_0228_frame_%04d.jpg':\n",
      "  Metadata:\n",
      "    major_brand     : isom\n",
      "    minor_version   : 512\n",
      "    compatible_brands: isomiso2avc1mp41\n",
      "    encoder         : Lavf58.29.100\n",
      "    Stream #0:0(und): Video: mjpeg, yuvj420p(pc), 3840x2160, q=2-31, 200 kb/s, 1 fps, 1 tbn, 1 tbc (default)\n",
      "    Metadata:\n",
      "      creation_time   : 2023-12-18T19:57:59.000000Z\n",
      "      handler_name    : VideoHandler\n",
      "      encoder         : Lavc58.54.100 mjpeg\n",
      "    Side data:\n",
      "      cpb: bitrate max/min/avg: 0/0/200000 buffer size: 0 vbv_delay: -1\n",
      "frame=   60 fps=1.5 q=24.8 Lsize=N/A time=00:01:00.00 bitrate=N/A speed= 1.5x    \n",
      "video:11870kB audio:0kB subtitle:0kB other streams:0kB global headers:0kB muxing overhead: unknown\n"
     ]
    },
    {
     "name": "stdout",
     "output_type": "stream",
     "text": [
      "Images extracted and saved to image_data\n"
     ]
    },
    {
     "name": "stderr",
     "output_type": "stream",
     "text": [
      "Input #0, mov,mp4,m4a,3gp,3g2,mj2, from 'video_data/DJI_0141.MP4':\n",
      "  Metadata:\n",
      "    major_brand     : isom\n",
      "    minor_version   : 512\n",
      "    compatible_brands: isomiso2avc1mp41\n",
      "    creation_time   : 2023-09-08T16:09:24.000000Z\n",
      "    encoder         : Lavf56.15.102\n",
      "  Duration: 00:01:50.11, start: 0.000000, bitrate: 103450 kb/s\n",
      "    Stream #0:0(und): Video: h264 (High) (avc1 / 0x31637661), yuv420p, 3840x2160, 103448 kb/s, 29.97 fps, 29.97 tbr, 30k tbn, 58 tbc (default)\n",
      "    Metadata:\n",
      "      creation_time   : 2023-09-08T16:09:24.000000Z\n",
      "      handler_name    : VideoHandler\n",
      "Stream mapping:\n",
      "  Stream #0:0 -> #0:0 (h264 (native) -> mjpeg (native))\n",
      "Press [q] to stop, [?] for help\n",
      "[swscaler @ 0x560e20e85f80] deprecated pixel format used, make sure you did set range correctly\n",
      "Output #0, image2, to 'image_data/DJI_0141_frame_%04d.jpg':\n",
      "  Metadata:\n",
      "    major_brand     : isom\n",
      "    minor_version   : 512\n",
      "    compatible_brands: isomiso2avc1mp41\n",
      "    encoder         : Lavf58.29.100\n",
      "    Stream #0:0(und): Video: mjpeg, yuvj420p(pc), 3840x2160, q=2-31, 200 kb/s, 1 fps, 1 tbn, 1 tbc (default)\n",
      "    Metadata:\n",
      "      creation_time   : 2023-09-08T16:09:24.000000Z\n",
      "      handler_name    : VideoHandler\n",
      "      encoder         : Lavc58.54.100 mjpeg\n",
      "    Side data:\n",
      "      cpb: bitrate max/min/avg: 0/0/200000 buffer size: 0 vbv_delay: -1\n",
      "frame=  110 fps=1.4 q=24.8 Lsize=N/A time=00:01:50.00 bitrate=N/A speed=1.41x    \n",
      "video:63627kB audio:0kB subtitle:0kB other streams:0kB global headers:0kB muxing overhead: unknown\n"
     ]
    },
    {
     "name": "stdout",
     "output_type": "stream",
     "text": [
      "Images extracted and saved to image_data\n"
     ]
    },
    {
     "name": "stderr",
     "output_type": "stream",
     "text": [
      "Input #0, mov,mp4,m4a,3gp,3g2,mj2, from 'video_data/DJI_0231.MP4':\n",
      "  Metadata:\n",
      "    major_brand     : isom\n",
      "    minor_version   : 512\n",
      "    compatible_brands: isomiso2avc1mp41\n",
      "    creation_time   : 2023-12-18T20:38:04.000000Z\n",
      "    encoder         : Lavf56.15.102\n",
      "  Duration: 00:00:55.19, start: 0.000000, bitrate: 103816 kb/s\n",
      "    Stream #0:0(und): Video: h264 (High) (avc1 / 0x31637661), yuv420p, 3840x2160, 103816 kb/s, 29.97 fps, 29.97 tbr, 30k tbn, 58 tbc (default)\n",
      "    Metadata:\n",
      "      creation_time   : 2023-12-18T20:38:04.000000Z\n",
      "      handler_name    : VideoHandler\n",
      "Stream mapping:\n",
      "  Stream #0:0 -> #0:0 (h264 (native) -> mjpeg (native))\n",
      "Press [q] to stop, [?] for help\n",
      "[swscaler @ 0x55c8bdd36200] deprecated pixel format used, make sure you did set range correctly\n",
      "Output #0, image2, to 'image_data/DJI_0231_frame_%04d.jpg':\n",
      "  Metadata:\n",
      "    major_brand     : isom\n",
      "    minor_version   : 512\n",
      "    compatible_brands: isomiso2avc1mp41\n",
      "    encoder         : Lavf58.29.100\n",
      "    Stream #0:0(und): Video: mjpeg, yuvj420p(pc), 3840x2160, q=2-31, 200 kb/s, 1 fps, 1 tbn, 1 tbc (default)\n",
      "    Metadata:\n",
      "      creation_time   : 2023-12-18T20:38:04.000000Z\n",
      "      handler_name    : VideoHandler\n",
      "      encoder         : Lavc58.54.100 mjpeg\n",
      "    Side data:\n",
      "      cpb: bitrate max/min/avg: 0/0/200000 buffer size: 0 vbv_delay: -1\n",
      "frame=   55 fps=1.6 q=24.8 Lsize=N/A time=00:00:55.00 bitrate=N/A speed=1.55x    \n",
      "video:13747kB audio:0kB subtitle:0kB other streams:0kB global headers:0kB muxing overhead: unknown\n"
     ]
    },
    {
     "name": "stdout",
     "output_type": "stream",
     "text": [
      "Images extracted and saved to image_data\n"
     ]
    },
    {
     "name": "stderr",
     "output_type": "stream",
     "text": [
      "Input #0, mov,mp4,m4a,3gp,3g2,mj2, from 'video_data/DJI_0140.MP4':\n",
      "  Metadata:\n",
      "    major_brand     : isom\n",
      "    minor_version   : 512\n",
      "    compatible_brands: isomiso2avc1mp41\n",
      "    creation_time   : 2023-09-08T16:04:54.000000Z\n",
      "    encoder         : Lavf56.15.102\n",
      "  Duration: 00:04:02.24, start: 0.000000, bitrate: 103399 kb/s\n",
      "    Stream #0:0(und): Video: h264 (High) (avc1 / 0x31637661), yuv420p, 3840x2160, 103397 kb/s, 29.97 fps, 29.97 tbr, 30k tbn, 58 tbc (default)\n",
      "    Metadata:\n",
      "      creation_time   : 2023-09-08T16:04:54.000000Z\n",
      "      handler_name    : VideoHandler\n",
      "Stream mapping:\n",
      "  Stream #0:0 -> #0:0 (h264 (native) -> mjpeg (native))\n",
      "Press [q] to stop, [?] for help\n",
      "[swscaler @ 0x565288fdce80] deprecated pixel format used, make sure you did set range correctly\n",
      "Output #0, image2, to 'image_data/DJI_0140_frame_%04d.jpg':\n",
      "  Metadata:\n",
      "    major_brand     : isom\n",
      "    minor_version   : 512\n",
      "    compatible_brands: isomiso2avc1mp41\n",
      "    encoder         : Lavf58.29.100\n",
      "    Stream #0:0(und): Video: mjpeg, yuvj420p(pc), 3840x2160, q=2-31, 200 kb/s, 1 fps, 1 tbn, 1 tbc (default)\n",
      "    Metadata:\n",
      "      creation_time   : 2023-09-08T16:04:54.000000Z\n",
      "      handler_name    : VideoHandler\n",
      "      encoder         : Lavc58.54.100 mjpeg\n",
      "    Side data:\n",
      "      cpb: bitrate max/min/avg: 0/0/200000 buffer size: 0 vbv_delay: -1\n",
      "frame=  242 fps=1.3 q=24.8 Lsize=N/A time=00:04:02.00 bitrate=N/A speed=1.34x    \n",
      "video:99563kB audio:0kB subtitle:0kB other streams:0kB global headers:0kB muxing overhead: unknown\n"
     ]
    },
    {
     "name": "stdout",
     "output_type": "stream",
     "text": [
      "Images extracted and saved to image_data\n"
     ]
    },
    {
     "name": "stderr",
     "output_type": "stream",
     "text": [
      "Input #0, mov,mp4,m4a,3gp,3g2,mj2, from 'video_data/DJI_0227.MP4':\n",
      "  Metadata:\n",
      "    major_brand     : isom\n",
      "    minor_version   : 512\n",
      "    compatible_brands: isomiso2avc1mp41\n",
      "    creation_time   : 2023-12-18T19:51:57.000000Z\n",
      "    encoder         : Lavf56.15.102\n",
      "  Duration: 00:02:14.77, start: 0.000000, bitrate: 103450 kb/s\n",
      "    Stream #0:0(und): Video: h264 (High) (avc1 / 0x31637661), yuv420p, 3840x2160, 103448 kb/s, 29.97 fps, 29.97 tbr, 30k tbn, 58 tbc (default)\n",
      "    Metadata:\n",
      "      creation_time   : 2023-12-18T19:51:57.000000Z\n",
      "      handler_name    : VideoHandler\n",
      "Stream mapping:\n",
      "  Stream #0:0 -> #0:0 (h264 (native) -> mjpeg (native))\n",
      "Press [q] to stop, [?] for help\n",
      "[swscaler @ 0x557815f95180] deprecated pixel format used, make sure you did set range correctly\n",
      "Output #0, image2, to 'image_data/DJI_0227_frame_%04d.jpg':\n",
      "  Metadata:\n",
      "    major_brand     : isom\n",
      "    minor_version   : 512\n",
      "    compatible_brands: isomiso2avc1mp41\n",
      "    encoder         : Lavf58.29.100\n",
      "    Stream #0:0(und): Video: mjpeg, yuvj420p(pc), 3840x2160, q=2-31, 200 kb/s, 1 fps, 1 tbn, 1 tbc (default)\n",
      "    Metadata:\n",
      "      creation_time   : 2023-12-18T19:51:57.000000Z\n",
      "      handler_name    : VideoHandler\n",
      "      encoder         : Lavc58.54.100 mjpeg\n",
      "    Side data:\n",
      "      cpb: bitrate max/min/avg: 0/0/200000 buffer size: 0 vbv_delay: -1\n",
      "frame=  135 fps=1.5 q=24.8 Lsize=N/A time=00:02:15.00 bitrate=N/A speed=1.52x    \n",
      "video:39231kB audio:0kB subtitle:0kB other streams:0kB global headers:0kB muxing overhead: unknown\n"
     ]
    },
    {
     "name": "stdout",
     "output_type": "stream",
     "text": [
      "Images extracted and saved to image_data\n"
     ]
    },
    {
     "name": "stderr",
     "output_type": "stream",
     "text": [
      "Input #0, mov,mp4,m4a,3gp,3g2,mj2, from 'video_data/DJI_0230.MP4':\n",
      "  Metadata:\n",
      "    major_brand     : isom\n",
      "    minor_version   : 512\n",
      "    compatible_brands: isomiso2avc1mp41\n",
      "    creation_time   : 2023-12-18T19:59:24.000000Z\n",
      "    encoder         : Lavf56.15.102\n",
      "  Duration: 00:00:48.38, start: 0.000000, bitrate: 103754 kb/s\n",
      "    Stream #0:0(und): Video: h264 (High) (avc1 / 0x31637661), yuv420p, 3840x2160, 103753 kb/s, 29.97 fps, 29.97 tbr, 30k tbn, 58 tbc (default)\n",
      "    Metadata:\n",
      "      creation_time   : 2023-12-18T19:59:24.000000Z\n",
      "      handler_name    : VideoHandler\n",
      "Stream mapping:\n",
      "  Stream #0:0 -> #0:0 (h264 (native) -> mjpeg (native))\n",
      "Press [q] to stop, [?] for help\n",
      "[swscaler @ 0x5561e751c880] deprecated pixel format used, make sure you did set range correctly\n",
      "Output #0, image2, to 'image_data/DJI_0230_frame_%04d.jpg':\n",
      "  Metadata:\n",
      "    major_brand     : isom\n",
      "    minor_version   : 512\n",
      "    compatible_brands: isomiso2avc1mp41\n",
      "    encoder         : Lavf58.29.100\n",
      "    Stream #0:0(und): Video: mjpeg, yuvj420p(pc), 3840x2160, q=2-31, 200 kb/s, 1 fps, 1 tbn, 1 tbc (default)\n",
      "    Metadata:\n",
      "      creation_time   : 2023-12-18T19:59:24.000000Z\n",
      "      handler_name    : VideoHandler\n",
      "      encoder         : Lavc58.54.100 mjpeg\n",
      "    Side data:\n",
      "      cpb: bitrate max/min/avg: 0/0/200000 buffer size: 0 vbv_delay: -1\n",
      "frame=   48 fps=1.5 q=24.8 Lsize=N/A time=00:00:48.00 bitrate=N/A speed=1.47x    \n",
      "video:9860kB audio:0kB subtitle:0kB other streams:0kB global headers:0kB muxing overhead: unknown\n"
     ]
    },
    {
     "name": "stdout",
     "output_type": "stream",
     "text": [
      "Images extracted and saved to image_data\n"
     ]
    },
    {
     "name": "stderr",
     "output_type": "stream",
     "text": [
      "Input #0, mov,mp4,m4a,3gp,3g2,mj2, from 'video_data/DJI_0142.MP4':\n",
      "  Metadata:\n",
      "    major_brand     : isom\n",
      "    minor_version   : 512\n",
      "    compatible_brands: isomiso2avc1mp41\n",
      "    creation_time   : 2023-09-08T16:16:13.000000Z\n",
      "    encoder         : Lavf56.15.102\n",
      "  Duration: 00:02:44.47, start: 0.000000, bitrate: 103431 kb/s\n",
      "    Stream #0:0(und): Video: h264 (High) (avc1 / 0x31637661), yuv420p, 3840x2160, 103429 kb/s, 29.97 fps, 29.97 tbr, 30k tbn, 58 tbc (default)\n",
      "    Metadata:\n",
      "      creation_time   : 2023-09-08T16:16:13.000000Z\n",
      "      handler_name    : VideoHandler\n",
      "Stream mapping:\n",
      "  Stream #0:0 -> #0:0 (h264 (native) -> mjpeg (native))\n",
      "Press [q] to stop, [?] for help\n",
      "[swscaler @ 0x562c0a971200] deprecated pixel format used, make sure you did set range correctly\n",
      "Output #0, image2, to 'image_data/DJI_0142_frame_%04d.jpg':\n",
      "  Metadata:\n",
      "    major_brand     : isom\n",
      "    minor_version   : 512\n",
      "    compatible_brands: isomiso2avc1mp41\n",
      "    encoder         : Lavf58.29.100\n",
      "    Stream #0:0(und): Video: mjpeg, yuvj420p(pc), 3840x2160, q=2-31, 200 kb/s, 1 fps, 1 tbn, 1 tbc (default)\n",
      "    Metadata:\n",
      "      creation_time   : 2023-09-08T16:16:13.000000Z\n",
      "      handler_name    : VideoHandler\n",
      "      encoder         : Lavc58.54.100 mjpeg\n",
      "    Side data:\n",
      "      cpb: bitrate max/min/avg: 0/0/200000 buffer size: 0 vbv_delay: -1\n",
      "frame=  163 fps=1.5 q=24.8 size=N/A time=00:02:43.00 bitrate=N/A speed=1.51x     \r"
     ]
    },
    {
     "name": "stdout",
     "output_type": "stream",
     "text": [
      "Images extracted and saved to image_data\n"
     ]
    },
    {
     "name": "stderr",
     "output_type": "stream",
     "text": [
      "frame=  164 fps=1.5 q=24.8 Lsize=N/A time=00:02:44.00 bitrate=N/A speed=1.51x    \n",
      "video:46303kB audio:0kB subtitle:0kB other streams:0kB global headers:0kB muxing overhead: unknown\n"
     ]
    }
   ],
   "source": [
    "for video_name in video_files:\n",
    "    video_path = os.path.join('video_data/', video_name)\n",
    "    extract_images(video_path, output_directory)"
   ]
  },
  {
   "cell_type": "markdown",
   "id": "8845e071-d9ad-4dea-aa6b-465141c11efc",
   "metadata": {},
   "source": [
    "By executing this process, we generate a directory containing images capturing various frames of the osprey nest from the videos."
   ]
  },
  {
   "cell_type": "markdown",
   "id": "f5646ff0-f51d-48e5-b186-13662c21024c",
   "metadata": {},
   "source": [
    "## Make a Zip file"
   ]
  },
  {
   "cell_type": "markdown",
   "id": "57dfdbff-4e26-4a87-92ad-49fe1dd29925",
   "metadata": {},
   "source": [
    "We save the file in ZIP format in case it is needed for later use in other applications."
   ]
  },
  {
   "cell_type": "code",
   "execution_count": 1,
   "id": "d9195697-261e-4261-9614-5da09a4fe925",
   "metadata": {},
   "outputs": [],
   "source": [
    "#!zip -r images.zip image_data/"
   ]
  },
  {
   "cell_type": "code",
   "execution_count": null,
   "id": "a2f840cf-ee88-47f9-ae96-26ab7d54af7a",
   "metadata": {},
   "outputs": [],
   "source": []
  }
 ],
 "metadata": {
  "kernelspec": {
   "display_name": "Python 3 (ipykernel)",
   "language": "python",
   "name": "python3"
  },
  "language_info": {
   "codemirror_mode": {
    "name": "ipython",
    "version": 3
   },
   "file_extension": ".py",
   "mimetype": "text/x-python",
   "name": "python",
   "nbconvert_exporter": "python",
   "pygments_lexer": "ipython3",
   "version": "3.9.16"
  }
 },
 "nbformat": 4,
 "nbformat_minor": 5
}
